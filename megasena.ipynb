{
 "cells": [
  {
   "cell_type": "markdown",
   "metadata": {},
   "source": [
    "# Análise dos números da Mega Sena\n",
    "\n",
    "<strike>Projeto realizado com os dados históricos dos sorteios realizados até 10/08/2019: <u>Concurso 2178</u> <br> </strike>\n",
    "\n",
    "Projeto adaptado para trabalhar com as versões mais recentes do sorteio.\n",
    "\n",
    "* <b>Parte 1:</b> Análise Exploratória dos Dados <br>\n",
    "* <b>Parte 2:</b> Testes Estatísticos <br>\n",
    "* <b>Parte 3:</b> Utilizando LSTM para prever um jogo vencedor\n",
    "\n",
    "site: http://loterias.caixa.gov.br/wps/portal/loterias/landing/megasena/"
   ]
  },
  {
   "cell_type": "markdown",
   "metadata": {},
   "source": [
    "## Análise Exploratória dos Dados"
   ]
  },
  {
   "cell_type": "code",
   "execution_count": null,
   "metadata": {},
   "outputs": [],
   "source": [
    "# Importação dos pacotes\n",
    "import pandas as pd\n",
    "import matplotlib.pyplot as plt\n",
    "import numpy as np\n",
    "\n",
    "from config import DOWNLOAD_PATH, FILENAME\n",
    "\n",
    "from analysis.functions import download_raffle_file\n",
    "from analysis.functions import transform_html_to_csv\n",
    "from analysis.functions import pre_process_dataframe\n",
    "from analysis.functions import get_data_dir\n",
    "from analysis.functions import print_frequency_report"
   ]
  },
  {
   "cell_type": "code",
   "execution_count": null,
   "metadata": {},
   "outputs": [],
   "source": [
    "save_path = get_data_dir()"
   ]
  },
  {
   "cell_type": "code",
   "execution_count": null,
   "metadata": {},
   "outputs": [],
   "source": [
    "download_raffle_file(url=DOWNLOAD_PATH, path=save_path, filename=FILENAME)\n",
    "transform_html_to_csv(path=save_path, filename=FILENAME)"
   ]
  },
  {
   "cell_type": "code",
   "execution_count": null,
   "metadata": {},
   "outputs": [],
   "source": [
    "mega_sena = pre_process_dataframe(filename=FILENAME, drop=['Cidade', 'UF'])"
   ]
  },
  {
   "cell_type": "code",
   "execution_count": null,
   "metadata": {},
   "outputs": [],
   "source": [
    "# Definindo nome das colunas\n",
    "names = ['Data', '1_n', '2_n','3_n', '4_n', '5_n', '6_n', 'Arrec', 'Sena', 'Valor_Sena', 'Quina',\n",
    "         'Valor_Quina', 'Quadra', 'Valor_Quadra', 'Acumulado', 'Valor_Acumulado', 'Estimativa', 'Mega_Virada']"
   ]
  },
  {
   "cell_type": "code",
   "execution_count": null,
   "metadata": {},
   "outputs": [],
   "source": [
    "# Alterando os nomes para facilitar a manipulação\n",
    "mega_sena.columns = names\n",
    "\n",
    "# Vizualizando as primeiras linhas\n",
    "mega_sena.head() "
   ]
  },
  {
   "cell_type": "code",
   "execution_count": null,
   "metadata": {},
   "outputs": [],
   "source": [
    "# Verificando os tipos dos dados importados\n",
    "mega_sena.info()"
   ]
  },
  {
   "cell_type": "code",
   "execution_count": null,
   "metadata": {},
   "outputs": [],
   "source": [
    "# Realizando slice para plotagem das informações\n",
    "sorteios_ano = mega_sena.groupby(mega_sena.Data.dt.year).count().iloc[:, 0]\n",
    "\n",
    "ganhadores_ano = mega_sena.groupby(mega_sena.Data.dt.year).sum().loc[:, ['Sena']]\n",
    "\n",
    "premios_ano = mega_sena.groupby(mega_sena.Data.dt.year).sum().loc[:, ['Valor_Sena']]\n",
    "\n",
    "arrec_ano = mega_sena.groupby(mega_sena.Data.dt.year).sum().loc[:, ['Arrec']]"
   ]
  },
  {
   "cell_type": "code",
   "execution_count": null,
   "metadata": {},
   "outputs": [],
   "source": [
    "# Gráficos \n",
    "ano = mega_sena.Data.dt.year.max() - 1\n",
    "ano_str = str(ano)\n",
    "\n",
    "x_lim = ano + 1\n",
    "\n",
    "# Definindo o tamanho da figura de plotagem\n",
    "plt.figure(figsize=(16,10))\n",
    "\n",
    "# Gráfico 1\n",
    "plt.subplot(221)\n",
    "plt.plot(ganhadores_ano.loc[:ano_str], color='black')\n",
    "plt.ylim(0, sorteios_ano.max() + 5)\n",
    "plt.yticks(range(0, sorteios_ano.max(), 10))\n",
    "plt.xlim(1996, x_lim)\n",
    "plt.xticks(range(1996, ano+1, 2))\n",
    "plt.title('Ganhadores')\n",
    "plt.ylabel('Número de Ganhadores')\n",
    "\n",
    "# Gráfico 2\n",
    "plt.subplot(222)\n",
    "plt.plot(sorteios_ano.loc[:ano_str], color='blue')\n",
    "plt.ylim(0, sorteios_ano.max() + 5)\n",
    "plt.yticks(range(0, sorteios_ano.max(), 10))\n",
    "plt.xlim(1996, x_lim)\n",
    "plt.xticks(range(1996, ano+1, 2))\n",
    "plt.title('Sorteios')\n",
    "plt.ylabel('Número de Sorteios')\n",
    "\n",
    "# Gráfico 3\n",
    "plt.subplot(223)\n",
    "plt.plot(arrec_ano.loc['2009':ano_str], color='red')\n",
    "plt.axvline(2009, 0, arrec_ano.max(), color='black')\n",
    "plt.text(1999, arrec_ano.max() * 0.65, 'No_Data', size=25, color='red')\n",
    "plt.xlim(1996, x_lim)\n",
    "plt.xticks(range(1996, ano+1, 2))\n",
    "plt.title('Arrecadação')\n",
    "plt.ylabel('Acumulado Anual')\n",
    "\n",
    "# Gráfico 4\n",
    "plt.subplot(224)\n",
    "plt.plot(premios_ano.loc[:ano_str], color='green')\n",
    "plt.xlim(1996, x_lim)\n",
    "plt.xticks(range(1996, ano+1, 2))\n",
    "plt.title('Valor dos Prêmios')\n",
    "plt.ylabel('Acumulado Anual')\n",
    "\n",
    "plt.show()"
   ]
  },
  {
   "cell_type": "code",
   "execution_count": null,
   "metadata": {
    "scrolled": true
   },
   "outputs": [],
   "source": [
    "# Avaliando a distribuição de frêquencia entre os números sorteados em cada dezena\n",
    "mega_dezenas = mega_sena.loc[:, '1_n':'6_n']\n",
    "\n",
    "plt.figure(figsize=(18,9))\n",
    "\n",
    "for i, n in enumerate(mega_dezenas.columns):\n",
    "    plt.subplot(231+i)\n",
    "    plt.hist(mega_dezenas[n], bins=60)\n",
    "    plt.xticks(range(0, 61, 5))\n",
    "    plt.yticks(range(20, 56, 5))\n",
    "    plt.ylim(20, 55)\n",
    "    plt.title(f'{i+1}ª Dezena')"
   ]
  },
  {
   "cell_type": "code",
   "execution_count": null,
   "metadata": {},
   "outputs": [],
   "source": [
    "# Avaliando a distribuição das médias entre os 6 números sorteados em cada sorteio.\n",
    "\n",
    "plt.figure(figsize=(16,8))\n",
    "plt.hist(mega_dezenas.agg(func=['mean'], axis=1)['mean'], bins=30, color='gray')\n",
    "plt.xticks(range(10, 58, 4))\n",
    "plt.title('Distribuição das Médias de cada Sorteio')\n",
    "plt.xlabel('Médias')\n",
    "plt.ylabel('Frequência')\n",
    "plt.show()"
   ]
  },
  {
   "cell_type": "code",
   "execution_count": null,
   "metadata": {},
   "outputs": [],
   "source": [
    "# Preparando o dataset para avaliação geral dos números\n",
    "dezenas = mega_dezenas.reset_index(level=0)\n",
    "\n",
    "dezenas = dezenas.melt(id_vars='Concurso',\n",
    "                       value_vars=['1_n', '2_n', '3_n', '4_n', '5_n', '6_n'],\n",
    "                       var_name='Dezena',\n",
    "                       value_name='Numero')\n",
    "\n",
    "dezenas.sort_values(['Concurso', 'Dezena']).reset_index(drop=True).head(12)"
   ]
  },
  {
   "cell_type": "code",
   "execution_count": null,
   "metadata": {},
   "outputs": [],
   "source": [
    "# Avaliando a distribuição de frequência geral dos números, descartando a dezena em que foi sorteado.\n",
    "y_lim = dezenas.Numero.value_counts().max() + 5\n",
    "\n",
    "plt.figure(figsize=(18,9))\n",
    "plt.hist(dezenas['Numero'], bins=60, color='green')\n",
    "plt.xticks(range(0, 61, 5))\n",
    "plt.ylim(170, y_lim)\n",
    "plt.title('Frequência Geral dos Números')\n",
    "plt.xlabel('Números')\n",
    "plt.ylabel('Frequência')\n",
    "plt.show()"
   ]
  },
  {
   "cell_type": "code",
   "execution_count": null,
   "metadata": {},
   "outputs": [],
   "source": [
    "# Organizando o gráfico em ordem crescente de frequência\n",
    "\n",
    "freq = dezenas.groupby('Numero').count().iloc[:,0]\n",
    "\n",
    "plt.figure(figsize=(16,8))\n",
    "freq.sort_values().plot(kind='bar')\n",
    "plt.title('Frequência dos números em ordem crescente')\n",
    "plt.ylim(170, y_lim)\n",
    "plt.show()"
   ]
  },
  {
   "cell_type": "code",
   "execution_count": null,
   "metadata": {},
   "outputs": [],
   "source": [
    "print_frequency_report(frequency_dataframe=freq)"
   ]
  },
  {
   "cell_type": "markdown",
   "metadata": {},
   "source": [
    "## Testes Estatíscos:\n",
    "\n",
    "**Vamos validar a tabela de probabilidades da Caixa Econômica Federal?**"
   ]
  },
  {
   "cell_type": "code",
   "execution_count": 1,
   "metadata": {},
   "outputs": [],
   "source": [
    "# Importando os pacotes\n",
    "from statistics.raffler import Raffler\n",
    "from statistics.gambler import Gambler\n",
    "from statistics.club import GamblersClub"
   ]
  },
  {
   "cell_type": "code",
   "execution_count": 2,
   "metadata": {},
   "outputs": [],
   "source": [
    "from magazine.reporter import Reporter"
   ]
  },
  {
   "cell_type": "code",
   "execution_count": 12,
   "metadata": {},
   "outputs": [],
   "source": [
    "intervalo_numeros = 60              #Intevalo de números aleatórios(Ex: MegaSena = 60)\n",
    "quantidade_numeros_sorteados = 6    #Quantidade de números a serem sorteados (Ex: MegaSena = 6)\n",
    "quantidade_numeros_jogados = 6      #Quantidade de números escolhidos para jogar (Ex: MegaSena de 6 até 15)\n",
    "tentativas = 10_000_000                #Quantidade de jogos aleatórios para tentar acertar o sorteio\n",
    "amostras = 3                      #Quantidade de repetições para gerar um amostra estatística "
   ]
  },
  {
   "cell_type": "code",
   "execution_count": 4,
   "metadata": {},
   "outputs": [],
   "source": [
    "raffler = Raffler(numbers_range=intervalo_numeros,\n",
    "                  numbers_amount=quantidade_numeros_sorteados)"
   ]
  },
  {
   "cell_type": "code",
   "execution_count": 5,
   "metadata": {},
   "outputs": [
    {
     "data": {
      "text/plain": [
       "[3, 56, 5, 35, 11, 23]"
      ]
     },
     "execution_count": 5,
     "metadata": {},
     "output_type": "execute_result"
    }
   ],
   "source": [
    "raffle = raffler.run()\n",
    "raffle"
   ]
  },
  {
   "cell_type": "code",
   "execution_count": 6,
   "metadata": {},
   "outputs": [],
   "source": [
    "gambler = Gambler(numbers_range=intervalo_numeros,\n",
    "                  numbers_amount=quantidade_numeros_sorteados,\n",
    "                  numbers_played=quantidade_numeros_jogados,\n",
    "                  trials=tentativas,\n",
    "                  samples=amostras,\n",
    "                  raffle_numbers=raffle)"
   ]
  },
  {
   "cell_type": "code",
   "execution_count": 35,
   "metadata": {},
   "outputs": [
    {
     "name": "stderr",
     "output_type": "stream",
     "text": [
      "100%|██████████████████████████████████████████████████████████████████| 10000000/10000000 [01:25<00:00, 116528.39it/s]\n"
     ]
    },
    {
     "name": "stdout",
     "output_type": "stream",
     "text": [
      "\n",
      "WOW! Even with \u001b[1m10,000,000\u001b[m trials, we didn't hit all the \u001b[1m6\u001b[m numbers!\n",
      "Our best game just hit \u001b[1m5\u001b[m numbers!\n",
      "\n",
      "-=-=-=-=-=-=-=-=-=-=-=-=-=-=-=-=-=-=-=-=-=-=-=-=-=-=-=-=-=-=\n",
      "\n",
      "Now, i'll play all the remaining games... Just wait! Thanks.\n",
      "\n",
      "Wall time: 1min 27s\n"
     ]
    }
   ],
   "source": [
    "%time gambler.play()"
   ]
  },
  {
   "cell_type": "code",
   "execution_count": 13,
   "metadata": {},
   "outputs": [],
   "source": [
    "gamblers = GamblersClub(numbers_range=intervalo_numeros,\n",
    "                        numbers_amount=quantidade_numeros_sorteados,\n",
    "                        numbers_played=quantidade_numeros_jogados,\n",
    "                        trials=tentativas,\n",
    "                        samples=amostras,\n",
    "                        raffle_numbers=raffle)"
   ]
  },
  {
   "cell_type": "code",
   "execution_count": 14,
   "metadata": {},
   "outputs": [
    {
     "name": "stdout",
     "output_type": "stream",
     "text": [
      "Wall time: 1min 34s\n"
     ]
    }
   ],
   "source": [
    "%time gamblers.play()"
   ]
  },
  {
   "cell_type": "code",
   "execution_count": 15,
   "metadata": {},
   "outputs": [
    {
     "name": "stdout",
     "output_type": "stream",
     "text": [
      "10000000\n",
      "10000000\n",
      "10000000\n"
     ]
    }
   ],
   "source": [
    "for lista in gamblers.hits_list:\n",
    "    print(len(lista))"
   ]
  },
  {
   "cell_type": "code",
   "execution_count": 16,
   "metadata": {},
   "outputs": [],
   "source": [
    "reporter = Reporter(gambler_hits=gamblers.hits_list,\n",
    "                    numbers_played=gamblers.numbers_played)"
   ]
  },
  {
   "cell_type": "code",
   "execution_count": 17,
   "metadata": {},
   "outputs": [
    {
     "data": {
      "image/png": "[encoded data removed]",
      "text/plain": [
       "<Figure size 720x720 with 1 Axes>"
      ]
     },
     "metadata": {
      "needs_background": "light"
     },
     "output_type": "display_data"
    }
   ],
   "source": [
    "reporter.show_probabilities_table()"
   ]
  },
  {
   "cell_type": "code",
   "execution_count": 18,
   "metadata": {
    "tags": []
   },
   "outputs": [
    {
     "name": "stdout",
     "output_type": "stream",
     "text": [
      "The mean score was approximately \u001b[1m4271\u001b[m each \u001b[1m10,000,000\u001b[m trials:\n",
      "\n",
      "\u001b[4m\u001b[1m1\u001b[m hit each \u001b[4m\u001b[1m2,341\u001b[m games played!\n",
      "\n",
      "We have played with \u001b[1m6\u001b[m numbers.\n"
     ]
    }
   ],
   "source": [
    "reporter.hit_report(number=4)"
   ]
  },
  {
   "cell_type": "code",
   "execution_count": null,
   "metadata": {
    "tags": []
   },
   "outputs": [],
   "source": [
    "reporter.confidence_report(number=5, confidence=0.9)"
   ]
  },
  {
   "cell_type": "code",
   "execution_count": null,
   "metadata": {},
   "outputs": [],
   "source": [
    "print(\"\\033[31m\\033[1mred\\033[m\")"
   ]
  },
  {
   "cell_type": "code",
   "execution_count": null,
   "metadata": {},
   "outputs": [],
   "source": [
    "reporter.save_hits()"
   ]
  },
  {
   "cell_type": "code",
   "execution_count": null,
   "metadata": {},
   "outputs": [],
   "source": [
    "reporter2 = Reporter(numbers_played=gamblers.numbers_played)"
   ]
  },
  {
   "cell_type": "code",
   "execution_count": null,
   "metadata": {},
   "outputs": [],
   "source": [
    "reporter2.load_hits(f'data/10_000_trials_30_samples.npy')"
   ]
  },
  {
   "cell_type": "code",
   "execution_count": null,
   "metadata": {},
   "outputs": [],
   "source": [
    "reporter2.number_hit_report(number=5)"
   ]
  },
  {
   "cell_type": "markdown",
   "metadata": {},
   "source": [
    "## Utilizando LSTM para prever um jogo vencedor"
   ]
  },
  {
   "cell_type": "code",
   "execution_count": null,
   "metadata": {},
   "outputs": [],
   "source": [
    "# Importando os pacotes\n",
    "import numpy\n",
    "from keras.models import Sequential\n",
    "from keras.layers import Dense\n",
    "from keras.layers import LSTM\n",
    "from sklearn.preprocessing import OneHotEncoder\n",
    "import warnings\n",
    "\n",
    "warnings.filterwarnings('ignore')"
   ]
  },
  {
   "cell_type": "code",
   "execution_count": null,
   "metadata": {},
   "outputs": [],
   "source": [
    "# Organizando os dados para o formato correto de input\n",
    "num_sorteado = np.array(jogos).flatten()"
   ]
  },
  {
   "cell_type": "code",
   "execution_count": null,
   "metadata": {},
   "outputs": [],
   "source": [
    "# Pré-processamento e criação do dataset de treino\n",
    "seq_in = []\n",
    "out = []\n",
    "\n",
    "for i in range(len(num_sorteado)-8):\n",
    "    seq_in.append(list(num_sorteado[i:i+6]))\n",
    "    out.append(num_sorteado[i+7])\n",
    "    \n",
    "X = np.array(seq_in)\n",
    "y = np.array(out)"
   ]
  },
  {
   "cell_type": "code",
   "execution_count": null,
   "metadata": {},
   "outputs": [],
   "source": [
    "# Dados de entrada organizado a cada 6 dezenas sorteadas\n",
    "X = X.reshape(X.shape[0], 6, 1)\n",
    "\n",
    "# Transformando números sorteados em categorias One Hot Encoding\n",
    "hot = OneHotEncoder(sparse=False, categories='auto')\n",
    "y_one = hot.fit_transform(y.reshape(len(y), 1))"
   ]
  },
  {
   "cell_type": "code",
   "execution_count": null,
   "metadata": {},
   "outputs": [],
   "source": [
    "# Criação e treinamento do modelo\n",
    "model = Sequential()\n",
    "\n",
    "model.add(LSTM(36, input_shape=(X.shape[1], X.shape[2])))\n",
    "model.add(Dense(120, activation='elu'))\n",
    "model.add(Dense(y_one.shape[1], activation='softmax'))\n",
    "\n",
    "model.compile(loss='categorical_crossentropy', optimizer='Adam', metrics=['accuracy'])\n",
    "\n",
    "model.fit(X, y_one, epochs=10, verbose=1)"
   ]
  },
  {
   "cell_type": "code",
   "execution_count": null,
   "metadata": {},
   "outputs": [],
   "source": [
    "# Resumo do modelo\n",
    "model.summary()"
   ]
  },
  {
   "cell_type": "code",
   "execution_count": null,
   "metadata": {},
   "outputs": [],
   "source": [
    "# Análise preditiva\n",
    "numeros_previstos = []\n",
    "\n",
    "for i in range(len(jogos)):\n",
    "    X_teste = np.array(jogos[i])\n",
    "    X_teste = X_teste.reshape(1, X_teste.shape[0], 1)\n",
    "    predicted = model.predict(X_teste)\n",
    "    numeros_previstos.append(np.argmax(predicted))\n",
    "\n",
    "# Tentamos organizar os números para prever as dezenas mais prováveis de serem sorteadas.\n",
    "numeros_previstos = pd.Series(numeros_previstos).unique()\n",
    "numeros_previstos = list(numeros_previstos)\n",
    "numeros_previstos.sort()"
   ]
  },
  {
   "cell_type": "code",
   "execution_count": null,
   "metadata": {},
   "outputs": [],
   "source": [
    "# Numeros previstos como mais provaveis:\n",
    "print(numeros_previstos)\n",
    "\n",
    "q_mais = 0\n",
    "q_menos = 0\n",
    "\n",
    "for n in numeros_previstos:\n",
    "    if n in mais:\n",
    "        q_mais += 1\n",
    "    elif n in menos:\n",
    "        q_menos += 1\n",
    "        \n",
    "print(f'\\nTemos {q_mais} dos números previstos entre os mais frequentes.')\n",
    "print(f'\\nTemos {q_menos} dos números previstos entre os menos frequentes.')"
   ]
  },
  {
   "cell_type": "code",
   "execution_count": null,
   "metadata": {},
   "outputs": [],
   "source": [
    "prev = []\n",
    "\n",
    "for jogo in jogos:\n",
    "    c = 0\n",
    "    for n in jogo:\n",
    "        if n in numeros_previstos:\n",
    "            c += 1\n",
    "    if c == 6:\n",
    "        print(jogo)\n",
    "        break\n",
    "    prev.append(c)\n",
    "\n",
    "print(f'''Utilizando os {len(numeros_previstos)} números mais prováveis previstos pelo modelo,\n",
    "tivemos uma média de acerto de {sum(prev)/len(prev):.2f} números considerando todos os 2178 sorteios.''')"
   ]
  },
  {
   "cell_type": "markdown",
   "metadata": {},
   "source": [
    "## Conclusão:\n",
    "\n",
    "* Como o fenomeno dos sorteios é completamente aleatório, o modelo não foi capaz de prever os números de forma acertiva. \n",
    "\n",
    "* Para avaliar o aprendizado do modelo, a expectativa era que ele fosse enviezado para buscar os números mais frequentes, o que não se mostrou na análise, sendo que 4 dos 12 estão presentes entre os números menos frequentes e apenas 1 entre os mais. \n"
   ]
  },
  {
   "cell_type": "markdown",
   "metadata": {},
   "source": [
    "# FIM!"
   ]
  }
 ],
 "metadata": {
  "kernelspec": {
   "display_name": "Python 3",
   "language": "python",
   "name": "python3"
  },
  "language_info": {
   "codemirror_mode": {
    "name": "ipython",
    "version": 3
   },
   "file_extension": ".py",
   "mimetype": "text/x-python",
   "name": "python",
   "nbconvert_exporter": "python",
   "pygments_lexer": "ipython3",
   "version": "3.7.7"
  }
 },
 "nbformat": 4,
 "nbformat_minor": 2
}
