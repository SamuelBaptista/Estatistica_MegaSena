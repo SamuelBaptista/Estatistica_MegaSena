{
 "cells": [
  {
   "cell_type": "markdown",
   "metadata": {},
   "source": [
    "# Análise dos números da Mega Sena\n",
    "\n",
    "<strike>Projeto realizado com os dados históricos dos sorteios realizados até 10/08/2019: <u>Concurso 2178</u> <br> </strike>\n",
    "\n",
    "Projeto adaptado para trabalhar com as versões mais recentes do sorteio.\n",
    "\n",
    "* <b>Parte 1:</b> Análise Exploratória dos Dados <br>\n",
    "* <b>Parte 2:</b> Testes Estatísticos <br>\n",
    "* <b>Parte 3:</b> Utilizando LSTM para prever um jogo vencedor\n",
    "\n",
    "site: http://loterias.caixa.gov.br/wps/portal/loterias/landing/megasena/"
   ]
  },
  {
   "cell_type": "markdown",
   "metadata": {},
   "source": [
    "## Análise Exploratória dos Dados"
   ]
  },
  {
   "cell_type": "code",
   "execution_count": 1,
   "metadata": {},
   "outputs": [],
   "source": [
    "# Importação dos pacotes\n",
    "import pandas as pd\n",
    "import matplotlib.pyplot as plt\n",
    "import numpy as np\n",
    "\n",
    "from config import DOWNLOAD_PATH, FILENAME\n",
    "\n",
    "from functions import download_raffle_file\n",
    "from functions import transform_html_to_csv\n",
    "from functions import pre_process_dataframe\n",
    "from functions import get_working_dir_path\n",
    "from functions import print_frequency_report"
   ]
  },
  {
   "cell_type": "code",
   "execution_count": 2,
   "metadata": {},
   "outputs": [],
   "source": [
    "save_path = get_working_dir_path()"
   ]
  },
  {
   "cell_type": "code",
   "execution_count": 3,
   "metadata": {},
   "outputs": [],
   "source": [
    "download_raffle_file(url=DOWNLOAD_PATH, path=save_path, filename=FILENAME)\n",
    "transform_html_to_csv(path=save_path, filename=FILENAME)"
   ]
  },
  {
   "cell_type": "code",
   "execution_count": 4,
   "metadata": {},
   "outputs": [],
   "source": [
    "mega_sena = pre_process_dataframe(filename=FILENAME, drop=['Cidade', 'UF'])"
   ]
  },
  {
   "cell_type": "code",
   "execution_count": 5,
   "metadata": {},
   "outputs": [],
   "source": [
    "# Definindo nome das colunas\n",
    "names = ['Data', '1_n', '2_n','3_n', '4_n', '5_n', '6_n', 'Arrec', 'Sena', 'Valor_Sena', 'Quina',\n",
    "         'Valor_Quina', 'Quadra', 'Valor_Quadra', 'Acumulado', 'Valor_Acumulado', 'Estimativa', 'Mega_Virada']"
   ]
  },
  {
   "cell_type": "code",
   "execution_count": 6,
   "metadata": {},
   "outputs": [
    {
     "data": {
      "text/html": [
       "<div>\n",
       "<style scoped>\n",
       "    .dataframe tbody tr th:only-of-type {\n",
       "        vertical-align: middle;\n",
       "    }\n",
       "\n",
       "    .dataframe tbody tr th {\n",
       "        vertical-align: top;\n",
       "    }\n",
       "\n",
       "    .dataframe thead th {\n",
       "        text-align: right;\n",
       "    }\n",
       "</style>\n",
       "<table border=\"1\" class=\"dataframe\">\n",
       "  <thead>\n",
       "    <tr style=\"text-align: right;\">\n",
       "      <th></th>\n",
       "      <th>Data</th>\n",
       "      <th>1_n</th>\n",
       "      <th>2_n</th>\n",
       "      <th>3_n</th>\n",
       "      <th>4_n</th>\n",
       "      <th>5_n</th>\n",
       "      <th>6_n</th>\n",
       "      <th>Arrec</th>\n",
       "      <th>Sena</th>\n",
       "      <th>Valor_Sena</th>\n",
       "      <th>Quina</th>\n",
       "      <th>Valor_Quina</th>\n",
       "      <th>Quadra</th>\n",
       "      <th>Valor_Quadra</th>\n",
       "      <th>Acumulado</th>\n",
       "      <th>Valor_Acumulado</th>\n",
       "      <th>Estimativa</th>\n",
       "      <th>Mega_Virada</th>\n",
       "    </tr>\n",
       "    <tr>\n",
       "      <th>Concurso</th>\n",
       "      <th></th>\n",
       "      <th></th>\n",
       "      <th></th>\n",
       "      <th></th>\n",
       "      <th></th>\n",
       "      <th></th>\n",
       "      <th></th>\n",
       "      <th></th>\n",
       "      <th></th>\n",
       "      <th></th>\n",
       "      <th></th>\n",
       "      <th></th>\n",
       "      <th></th>\n",
       "      <th></th>\n",
       "      <th></th>\n",
       "      <th></th>\n",
       "      <th></th>\n",
       "      <th></th>\n",
       "    </tr>\n",
       "  </thead>\n",
       "  <tbody>\n",
       "    <tr>\n",
       "      <th>1</th>\n",
       "      <td>1996-11-03</td>\n",
       "      <td>41</td>\n",
       "      <td>5</td>\n",
       "      <td>4</td>\n",
       "      <td>52</td>\n",
       "      <td>30</td>\n",
       "      <td>33</td>\n",
       "      <td>0.0</td>\n",
       "      <td>0</td>\n",
       "      <td>0.00</td>\n",
       "      <td>17</td>\n",
       "      <td>39158.92</td>\n",
       "      <td>2016</td>\n",
       "      <td>330.21</td>\n",
       "      <td>SIM</td>\n",
       "      <td>1714650.23</td>\n",
       "      <td>0</td>\n",
       "      <td>0.0</td>\n",
       "    </tr>\n",
       "    <tr>\n",
       "      <th>2</th>\n",
       "      <td>1996-03-18</td>\n",
       "      <td>9</td>\n",
       "      <td>39</td>\n",
       "      <td>37</td>\n",
       "      <td>49</td>\n",
       "      <td>43</td>\n",
       "      <td>41</td>\n",
       "      <td>0.0</td>\n",
       "      <td>1</td>\n",
       "      <td>2307162.23</td>\n",
       "      <td>65</td>\n",
       "      <td>14424.02</td>\n",
       "      <td>4488</td>\n",
       "      <td>208.91</td>\n",
       "      <td>NÃO</td>\n",
       "      <td>0.00</td>\n",
       "      <td>0</td>\n",
       "      <td>0.0</td>\n",
       "    </tr>\n",
       "    <tr>\n",
       "      <th>3</th>\n",
       "      <td>1996-03-25</td>\n",
       "      <td>36</td>\n",
       "      <td>30</td>\n",
       "      <td>10</td>\n",
       "      <td>11</td>\n",
       "      <td>29</td>\n",
       "      <td>47</td>\n",
       "      <td>0.0</td>\n",
       "      <td>2</td>\n",
       "      <td>391192.51</td>\n",
       "      <td>62</td>\n",
       "      <td>10515.93</td>\n",
       "      <td>4261</td>\n",
       "      <td>153.01</td>\n",
       "      <td>NÃO</td>\n",
       "      <td>0.00</td>\n",
       "      <td>0</td>\n",
       "      <td>0.0</td>\n",
       "    </tr>\n",
       "    <tr>\n",
       "      <th>4</th>\n",
       "      <td>1996-01-04</td>\n",
       "      <td>6</td>\n",
       "      <td>59</td>\n",
       "      <td>42</td>\n",
       "      <td>27</td>\n",
       "      <td>1</td>\n",
       "      <td>5</td>\n",
       "      <td>0.0</td>\n",
       "      <td>0</td>\n",
       "      <td>0.00</td>\n",
       "      <td>39</td>\n",
       "      <td>15322.24</td>\n",
       "      <td>3311</td>\n",
       "      <td>180.48</td>\n",
       "      <td>SIM</td>\n",
       "      <td>717080.75</td>\n",
       "      <td>0</td>\n",
       "      <td>0.0</td>\n",
       "    </tr>\n",
       "    <tr>\n",
       "      <th>5</th>\n",
       "      <td>1996-08-04</td>\n",
       "      <td>1</td>\n",
       "      <td>19</td>\n",
       "      <td>46</td>\n",
       "      <td>6</td>\n",
       "      <td>16</td>\n",
       "      <td>2</td>\n",
       "      <td>0.0</td>\n",
       "      <td>0</td>\n",
       "      <td>0.00</td>\n",
       "      <td>98</td>\n",
       "      <td>5318.10</td>\n",
       "      <td>5399</td>\n",
       "      <td>96.53</td>\n",
       "      <td>SIM</td>\n",
       "      <td>1342488.85</td>\n",
       "      <td>0</td>\n",
       "      <td>0.0</td>\n",
       "    </tr>\n",
       "  </tbody>\n",
       "</table>\n",
       "</div>"
      ],
      "text/plain": [
       "               Data  1_n  2_n  3_n  4_n  5_n  6_n  Arrec  Sena  Valor_Sena  \\\n",
       "Concurso                                                                     \n",
       "1        1996-11-03   41    5    4   52   30   33    0.0     0        0.00   \n",
       "2        1996-03-18    9   39   37   49   43   41    0.0     1  2307162.23   \n",
       "3        1996-03-25   36   30   10   11   29   47    0.0     2   391192.51   \n",
       "4        1996-01-04    6   59   42   27    1    5    0.0     0        0.00   \n",
       "5        1996-08-04    1   19   46    6   16    2    0.0     0        0.00   \n",
       "\n",
       "          Quina  Valor_Quina  Quadra  Valor_Quadra Acumulado  Valor_Acumulado  \\\n",
       "Concurso                                                                        \n",
       "1            17     39158.92    2016        330.21       SIM       1714650.23   \n",
       "2            65     14424.02    4488        208.91       NÃO             0.00   \n",
       "3            62     10515.93    4261        153.01       NÃO             0.00   \n",
       "4            39     15322.24    3311        180.48       SIM        717080.75   \n",
       "5            98      5318.10    5399         96.53       SIM       1342488.85   \n",
       "\n",
       "          Estimativa  Mega_Virada  \n",
       "Concurso                           \n",
       "1                  0          0.0  \n",
       "2                  0          0.0  \n",
       "3                  0          0.0  \n",
       "4                  0          0.0  \n",
       "5                  0          0.0  "
      ]
     },
     "execution_count": 6,
     "metadata": {},
     "output_type": "execute_result"
    }
   ],
   "source": [
    "# Alterando os nomes para facilitar a manipulação\n",
    "mega_sena.columns = names\n",
    "\n",
    "# Vizualizando as primeiras linhas\n",
    "mega_sena.head() "
   ]
  },
  {
   "cell_type": "code",
   "execution_count": 7,
   "metadata": {},
   "outputs": [
    {
     "name": "stdout",
     "output_type": "stream",
     "text": [
      "<class 'pandas.core.frame.DataFrame'>\n",
      "Int64Index: 2301 entries, 1 to 2301\n",
      "Data columns (total 18 columns):\n",
      " #   Column           Non-Null Count  Dtype         \n",
      "---  ------           --------------  -----         \n",
      " 0   Data             2301 non-null   datetime64[ns]\n",
      " 1   1_n              2301 non-null   Int64         \n",
      " 2   2_n              2301 non-null   Int64         \n",
      " 3   3_n              2301 non-null   Int64         \n",
      " 4   4_n              2301 non-null   Int64         \n",
      " 5   5_n              2301 non-null   Int64         \n",
      " 6   6_n              2301 non-null   Int64         \n",
      " 7   Arrec            2301 non-null   float64       \n",
      " 8   Sena             2301 non-null   Int64         \n",
      " 9   Valor_Sena       2301 non-null   float64       \n",
      " 10  Quina            2301 non-null   Int64         \n",
      " 11  Valor_Quina      2301 non-null   float64       \n",
      " 12  Quadra           2301 non-null   Int64         \n",
      " 13  Valor_Quadra     2301 non-null   float64       \n",
      " 14  Acumulado        2301 non-null   string        \n",
      " 15  Valor_Acumulado  2301 non-null   float64       \n",
      " 16  Estimativa       2301 non-null   Int64         \n",
      " 17  Mega_Virada      2301 non-null   float64       \n",
      "dtypes: Int64(10), datetime64[ns](1), float64(6), string(1)\n",
      "memory usage: 364.0 KB\n"
     ]
    }
   ],
   "source": [
    "# Verificando os tipos dos dados importados\n",
    "mega_sena.info()"
   ]
  },
  {
   "cell_type": "code",
   "execution_count": 8,
   "metadata": {},
   "outputs": [],
   "source": [
    "# Realizando slice para plotagem das informações\n",
    "sorteios_ano = mega_sena.groupby(mega_sena.Data.dt.year).count().iloc[:, 0]\n",
    "\n",
    "ganhadores_ano = mega_sena.groupby(mega_sena.Data.dt.year).sum().loc[:, ['Sena']]\n",
    "\n",
    "premios_ano = mega_sena.groupby(mega_sena.Data.dt.year).sum().loc[:, ['Valor_Sena']]\n",
    "\n",
    "arrec_ano = mega_sena.groupby(mega_sena.Data.dt.year).sum().loc[:, ['Arrec']]"
   ]
  },
  {
   "cell_type": "code",
   "execution_count": 9,
   "metadata": {},
   "outputs": [
    {
     "data": {
      "image/png": "[encoded data removed]",
      "text/plain": [
       "<Figure size 1152x720 with 4 Axes>"
      ]
     },
     "metadata": {
      "needs_background": "light"
     },
     "output_type": "display_data"
    }
   ],
   "source": [
    "# Gráficos \n",
    "ano = mega_sena.Data.dt.year.max() - 1\n",
    "ano_str = str(ano)\n",
    "\n",
    "x_lim = ano + 1\n",
    "\n",
    "# Definindo o tamanho da figura de plotagem\n",
    "plt.figure(figsize=(16,10))\n",
    "\n",
    "# Gráfico 1\n",
    "plt.subplot(221)\n",
    "plt.plot(ganhadores_ano.loc[:ano_str], color='black')\n",
    "plt.ylim(0, sorteios_ano.max() + 5)\n",
    "plt.yticks(range(0, sorteios_ano.max(), 10))\n",
    "plt.xlim(1996, x_lim)\n",
    "plt.xticks(range(1996, ano+1, 2))\n",
    "plt.title('Ganhadores')\n",
    "plt.ylabel('Número de Ganhadores')\n",
    "\n",
    "# Gráfico 2\n",
    "plt.subplot(222)\n",
    "plt.plot(sorteios_ano.loc[:ano_str], color='blue')\n",
    "plt.ylim(0, sorteios_ano.max() + 5)\n",
    "plt.yticks(range(0, sorteios_ano.max(), 10))\n",
    "plt.xlim(1996, x_lim)\n",
    "plt.xticks(range(1996, ano+1, 2))\n",
    "plt.title('Sorteios')\n",
    "plt.ylabel('Número de Sorteios')\n",
    "\n",
    "# Gráfico 3\n",
    "plt.subplot(223)\n",
    "plt.plot(arrec_ano.loc['2009':ano_str], color='red')\n",
    "plt.axvline(2009, 0, arrec_ano.max(), color='black')\n",
    "plt.text(1999, arrec_ano.max() * 0.65, 'No_Data', size=25, color='red')\n",
    "plt.xlim(1996, x_lim)\n",
    "plt.xticks(range(1996, ano+1, 2))\n",
    "plt.title('Arrecadação')\n",
    "plt.ylabel('Acumulado Anual')\n",
    "\n",
    "# Gráfico 4\n",
    "plt.subplot(224)\n",
    "plt.plot(premios_ano.loc[:ano_str], color='green')\n",
    "plt.xlim(1996, x_lim)\n",
    "plt.xticks(range(1996, ano+1, 2))\n",
    "plt.title('Valor dos Prêmios')\n",
    "plt.ylabel('Acumulado Anual')\n",
    "\n",
    "plt.show()"
   ]
  },
  {
   "cell_type": "code",
   "execution_count": 10,
   "metadata": {
    "scrolled": true
   },
   "outputs": [
    {
     "data": {
      "image/png": "[encoded data removed]",
      "text/plain": [
       "<Figure size 1296x648 with 6 Axes>"
      ]
     },
     "metadata": {
      "needs_background": "light"
     },
     "output_type": "display_data"
    }
   ],
   "source": [
    "# Avaliando a distribuição de frêquencia entre os números sorteados em cada dezena\n",
    "mega_dezenas = mega_sena.loc[:, '1_n':'6_n']\n",
    "\n",
    "plt.figure(figsize=(18,9))\n",
    "\n",
    "for i, n in enumerate(mega_dezenas.columns):\n",
    "    plt.subplot(231+i)\n",
    "    plt.hist(mega_dezenas[n], bins=60)\n",
    "    plt.xticks(range(0, 61, 5))\n",
    "    plt.yticks(range(20, 56, 5))\n",
    "    plt.ylim(20, 55)\n",
    "    plt.title(f'{i+1}ª Dezena')"
   ]
  },
  {
   "cell_type": "code",
   "execution_count": 11,
   "metadata": {},
   "outputs": [
    {
     "data": {
      "image/png": "[encoded data removed]",
      "text/plain": [
       "<Figure size 1152x576 with 1 Axes>"
      ]
     },
     "metadata": {
      "needs_background": "light"
     },
     "output_type": "display_data"
    }
   ],
   "source": [
    "# Avaliando a distribuição das médias entre os 6 números sorteados em cada sorteio.\n",
    "\n",
    "plt.figure(figsize=(16,8))\n",
    "plt.hist(mega_dezenas.agg(func=['mean'], axis=1)['mean'], bins=30, color='gray')\n",
    "plt.xticks(range(10, 58, 4))\n",
    "plt.title('Distribuição das Médias de cada Sorteio')\n",
    "plt.xlabel('Médias')\n",
    "plt.ylabel('Frequência')\n",
    "plt.show()"
   ]
  },
  {
   "cell_type": "code",
   "execution_count": 12,
   "metadata": {},
   "outputs": [
    {
     "data": {
      "text/html": [
       "<div>\n",
       "<style scoped>\n",
       "    .dataframe tbody tr th:only-of-type {\n",
       "        vertical-align: middle;\n",
       "    }\n",
       "\n",
       "    .dataframe tbody tr th {\n",
       "        vertical-align: top;\n",
       "    }\n",
       "\n",
       "    .dataframe thead th {\n",
       "        text-align: right;\n",
       "    }\n",
       "</style>\n",
       "<table border=\"1\" class=\"dataframe\">\n",
       "  <thead>\n",
       "    <tr style=\"text-align: right;\">\n",
       "      <th></th>\n",
       "      <th>Concurso</th>\n",
       "      <th>Dezena</th>\n",
       "      <th>Numero</th>\n",
       "    </tr>\n",
       "  </thead>\n",
       "  <tbody>\n",
       "    <tr>\n",
       "      <th>0</th>\n",
       "      <td>1</td>\n",
       "      <td>1_n</td>\n",
       "      <td>41</td>\n",
       "    </tr>\n",
       "    <tr>\n",
       "      <th>1</th>\n",
       "      <td>1</td>\n",
       "      <td>2_n</td>\n",
       "      <td>5</td>\n",
       "    </tr>\n",
       "    <tr>\n",
       "      <th>2</th>\n",
       "      <td>1</td>\n",
       "      <td>3_n</td>\n",
       "      <td>4</td>\n",
       "    </tr>\n",
       "    <tr>\n",
       "      <th>3</th>\n",
       "      <td>1</td>\n",
       "      <td>4_n</td>\n",
       "      <td>52</td>\n",
       "    </tr>\n",
       "    <tr>\n",
       "      <th>4</th>\n",
       "      <td>1</td>\n",
       "      <td>5_n</td>\n",
       "      <td>30</td>\n",
       "    </tr>\n",
       "    <tr>\n",
       "      <th>5</th>\n",
       "      <td>1</td>\n",
       "      <td>6_n</td>\n",
       "      <td>33</td>\n",
       "    </tr>\n",
       "    <tr>\n",
       "      <th>6</th>\n",
       "      <td>2</td>\n",
       "      <td>1_n</td>\n",
       "      <td>9</td>\n",
       "    </tr>\n",
       "    <tr>\n",
       "      <th>7</th>\n",
       "      <td>2</td>\n",
       "      <td>2_n</td>\n",
       "      <td>39</td>\n",
       "    </tr>\n",
       "    <tr>\n",
       "      <th>8</th>\n",
       "      <td>2</td>\n",
       "      <td>3_n</td>\n",
       "      <td>37</td>\n",
       "    </tr>\n",
       "    <tr>\n",
       "      <th>9</th>\n",
       "      <td>2</td>\n",
       "      <td>4_n</td>\n",
       "      <td>49</td>\n",
       "    </tr>\n",
       "    <tr>\n",
       "      <th>10</th>\n",
       "      <td>2</td>\n",
       "      <td>5_n</td>\n",
       "      <td>43</td>\n",
       "    </tr>\n",
       "    <tr>\n",
       "      <th>11</th>\n",
       "      <td>2</td>\n",
       "      <td>6_n</td>\n",
       "      <td>41</td>\n",
       "    </tr>\n",
       "  </tbody>\n",
       "</table>\n",
       "</div>"
      ],
      "text/plain": [
       "    Concurso Dezena Numero\n",
       "0          1    1_n     41\n",
       "1          1    2_n      5\n",
       "2          1    3_n      4\n",
       "3          1    4_n     52\n",
       "4          1    5_n     30\n",
       "5          1    6_n     33\n",
       "6          2    1_n      9\n",
       "7          2    2_n     39\n",
       "8          2    3_n     37\n",
       "9          2    4_n     49\n",
       "10         2    5_n     43\n",
       "11         2    6_n     41"
      ]
     },
     "execution_count": 12,
     "metadata": {},
     "output_type": "execute_result"
    }
   ],
   "source": [
    "# Preparando o dataset para avaliação geral dos números\n",
    "dezenas = mega_dezenas.reset_index(level=0)\n",
    "\n",
    "dezenas = dezenas.melt(id_vars='Concurso',\n",
    "                       value_vars=['1_n', '2_n', '3_n', '4_n', '5_n', '6_n'],\n",
    "                       var_name='Dezena',\n",
    "                       value_name='Numero')\n",
    "\n",
    "dezenas.sort_values(['Concurso', 'Dezena']).reset_index(drop=True).head(12)"
   ]
  },
  {
   "cell_type": "code",
   "execution_count": 13,
   "metadata": {},
   "outputs": [
    {
     "data": {
      "image/png": "[encoded data removed]",
      "text/plain": [
       "<Figure size 1296x648 with 1 Axes>"
      ]
     },
     "metadata": {
      "needs_background": "light"
     },
     "output_type": "display_data"
    }
   ],
   "source": [
    "# Avaliando a distribuição de frequência geral dos números, descartando a dezena em que foi sorteado.\n",
    "y_lim = dezenas.Numero.value_counts().max() + 5\n",
    "\n",
    "plt.figure(figsize=(18,9))\n",
    "plt.hist(dezenas['Numero'], bins=60, color='green')\n",
    "plt.xticks(range(0, 61, 5))\n",
    "plt.ylim(170, y_lim)\n",
    "plt.title('Frequência Geral dos Números')\n",
    "plt.xlabel('Números')\n",
    "plt.ylabel('Frequência')\n",
    "plt.show()"
   ]
  },
  {
   "cell_type": "code",
   "execution_count": 14,
   "metadata": {},
   "outputs": [
    {
     "data": {
      "image/png": "[encoded data removed]",
      "text/plain": [
       "<Figure size 1152x576 with 1 Axes>"
      ]
     },
     "metadata": {
      "needs_background": "light"
     },
     "output_type": "display_data"
    }
   ],
   "source": [
    "# Organizando o gráfico em ordem crescente de frequência\n",
    "\n",
    "freq = dezenas.groupby('Numero').count().iloc[:,0]\n",
    "\n",
    "plt.figure(figsize=(16,8))\n",
    "freq.sort_values().plot(kind='bar')\n",
    "plt.title('Frequência dos números em ordem crescente')\n",
    "plt.ylim(170, y_lim)\n",
    "plt.show()"
   ]
  },
  {
   "cell_type": "code",
   "execution_count": 15,
   "metadata": {},
   "outputs": [
    {
     "name": "stdout",
     "output_type": "stream",
     "text": [
      "\u001b[1mOS NÚMEROS QUE MAIS APARECERAM FORAM:\u001b[m\n",
      "\n",
      "\u001b[1m10\u001b[m que apareceu em \u001b[1m263\u001b[m sorteios\n",
      "\u001b[1m53\u001b[m que apareceu em \u001b[1m261\u001b[m sorteios\n",
      "\u001b[1m5\u001b[m que apareceu em \u001b[1m255\u001b[m sorteios\n",
      "\u001b[1m23\u001b[m que apareceu em \u001b[1m254\u001b[m sorteios\n",
      "\u001b[1m4\u001b[m que apareceu em \u001b[1m251\u001b[m sorteios\n",
      "\u001b[1m33\u001b[m que apareceu em \u001b[1m251\u001b[m sorteios\n",
      "\n",
      "\u001b[1mOS NÚMEROS QUE MENOS APARECERAM FORAM:\u001b[m\n",
      "\n",
      "\u001b[1m26\u001b[m que apareceu em \u001b[1m190\u001b[m sorteios\n",
      "\u001b[1m55\u001b[m que apareceu em \u001b[1m194\u001b[m sorteios\n",
      "\u001b[1m22\u001b[m que apareceu em \u001b[1m200\u001b[m sorteios\n",
      "\u001b[1m21\u001b[m que apareceu em \u001b[1m202\u001b[m sorteios\n",
      "\u001b[1m3\u001b[m que apareceu em \u001b[1m206\u001b[m sorteios\n",
      "\u001b[1m15\u001b[m que apareceu em \u001b[1m206\u001b[m sorteios\n",
      "\n",
      "Jogo com números mais frequentes: [4, 5, 10, 23, 33, 53]\n",
      "Jogo com números menos frequentes: [3, 15, 21, 22, 26, 55]\n"
     ]
    }
   ],
   "source": [
    "print_frequency_report(frequency_dataframe=freq)"
   ]
  },
  {
   "cell_type": "markdown",
   "metadata": {},
   "source": [
    "## Testes Estatíscos:\n",
    "\n",
    "**Vamos validar a tabela de probabilidades da CEF?**"
   ]
  },
  {
   "cell_type": "code",
   "execution_count": 1,
   "metadata": {},
   "outputs": [],
   "source": [
    "# Importando os pacotes\n",
    "from src.raffler import Raffler\n",
    "from src.gambler import Gambler\n",
    "from src.reporter import Reporter"
   ]
  },
  {
   "cell_type": "code",
   "execution_count": 2,
   "metadata": {},
   "outputs": [],
   "source": [
    "intervalo_numeros = 60              #Intevalo de números aleatórios(Ex: MegaSena = 60)\n",
    "quantidade_numeros_sorteados = 6    #Quantidade de números a serem sorteados (Ex: MegaSena = 6)\n",
    "quantidade_numeros_jogados = 12     #Quantidade de números escolhidos para jogar (Ex: MegaSena de 6 até 15)\n",
    "tentativas = 1_000_000              #Quantidade de jogos aleatórios para tentar acertar o sorteio\n",
    "amostras = 5                        #Quantidade de repetições para gerar um amostra estatística "
   ]
  },
  {
   "cell_type": "code",
   "execution_count": 3,
   "metadata": {},
   "outputs": [],
   "source": [
    "raffler = Raffler(numbers_range=intervalo_numeros,\n",
    "                  numbers_amount=quantidade_numeros_sorteados)"
   ]
  },
  {
   "cell_type": "code",
   "execution_count": 4,
   "metadata": {},
   "outputs": [
    {
     "data": {
      "text/plain": [
       "[1, 8, 9, 32, 43, 5]"
      ]
     },
     "execution_count": 4,
     "metadata": {},
     "output_type": "execute_result"
    }
   ],
   "source": [
    "raffle = raffler.run()\n",
    "raffle"
   ]
  },
  {
   "cell_type": "code",
   "execution_count": 5,
   "metadata": {},
   "outputs": [],
   "source": [
    "gambler = Gambler(numbers_range=intervalo_numeros,\n",
    "                  numbers_amount=quantidade_numeros_sorteados,\n",
    "                  numbers_played=quantidade_numeros_jogados,\n",
    "                  trials=tentativas,\n",
    "                  samples=amostras)"
   ]
  },
  {
   "cell_type": "code",
   "execution_count": 6,
   "metadata": {},
   "outputs": [
    {
     "name": "stderr",
     "output_type": "stream",
     "text": [
      "100%|█████████████████████████████████████████████████████████████████████| 1000000/1000000 [00:10<00:00, 93985.80it/s]\n"
     ]
    },
    {
     "name": "stdout",
     "output_type": "stream",
     "text": [
      "\n",
      "YAY! We won!\n",
      "We hit all the \u001b[1m6\u001b[m numbers!\n",
      "\n",
      "-=-=-=-=-=-=-=-=-=-=-=-=-=-=-=-=-=-=-=-=-=-=-=-=-=-=-=-=-=-=\n",
      "\n",
      "Now, i'll play all the remaining games... Just wait! Thanks.\n",
      "\n"
     ]
    },
    {
     "name": "stderr",
     "output_type": "stream",
     "text": [
      "100%|█████████████████████████████████████████████████████████████████████| 1000000/1000000 [00:10<00:00, 93754.69it/s]\n",
      "100%|█████████████████████████████████████████████████████████████████████| 1000000/1000000 [00:10<00:00, 92531.41it/s]\n",
      "100%|█████████████████████████████████████████████████████████████████████| 1000000/1000000 [00:10<00:00, 91218.92it/s]\n",
      "100%|█████████████████████████████████████████████████████████████████████| 1000000/1000000 [00:11<00:00, 90758.49it/s]"
     ]
    },
    {
     "name": "stdout",
     "output_type": "stream",
     "text": [
      "Wall time: 56.7 s\n"
     ]
    },
    {
     "name": "stderr",
     "output_type": "stream",
     "text": [
      "\n"
     ]
    }
   ],
   "source": [
    "%time gambler.play(raffle)"
   ]
  },
  {
   "cell_type": "code",
   "execution_count": 7,
   "metadata": {},
   "outputs": [],
   "source": [
    "reporter = Reporter(gambler_hits=gambler.hits_list,\n",
    "                    numbers_played=gambler.numbers_played)"
   ]
  },
  {
   "cell_type": "code",
   "execution_count": 11,
   "metadata": {},
   "outputs": [
    {
     "data": {
      "image/png": "[encoded data removed]",
      "text/plain": [
       "<IPython.core.display.Image object>"
      ]
     },
     "execution_count": 11,
     "metadata": {},
     "output_type": "execute_result"
    }
   ],
   "source": [
    "from IPython.display import Image\n",
    "Image(\"probabilities_table.png\")"
   ]
  },
  {
   "cell_type": "code",
   "execution_count": 10,
   "metadata": {},
   "outputs": [
    {
     "name": "stdout",
     "output_type": "stream",
     "text": [
      "The mean score was approximately \u001b[1m17\u001b[m each \u001b[1m1,000,000\u001b[m trials:\n",
      "\n",
      "\u001b[4m\u001b[1m1\u001b[m\u001b[4m hit each \u001b[1m58,823\u001b[m\u001b[4m raffle cards\u001b[m\n",
      "\n",
      "We have played with \u001b[1m12\u001b[m numbers.\n"
     ]
    }
   ],
   "source": [
    "reporter.number_hit_report(number=6)"
   ]
  },
  {
   "cell_type": "code",
   "execution_count": 12,
   "metadata": {},
   "outputs": [
    {
     "name": "stdout",
     "output_type": "stream",
     "text": [
      "0.025    14\n",
      "0.975    19\n"
     ]
    }
   ],
   "source": [
    "reporter.number_bootstrap_report(number=6, confidence=0.95)"
   ]
  },
  {
   "cell_type": "markdown",
   "metadata": {},
   "source": [
    "## Utilizando LSTM para prever um jogo vencedor"
   ]
  },
  {
   "cell_type": "code",
   "execution_count": null,
   "metadata": {},
   "outputs": [],
   "source": [
    "# Importando os pacotes\n",
    "import numpy\n",
    "from keras.models import Sequential\n",
    "from keras.layers import Dense\n",
    "from keras.layers import LSTM\n",
    "from sklearn.preprocessing import OneHotEncoder\n",
    "import warnings\n",
    "\n",
    "warnings.filterwarnings('ignore')"
   ]
  },
  {
   "cell_type": "code",
   "execution_count": null,
   "metadata": {},
   "outputs": [],
   "source": [
    "# Organizando os dados para o formato correto de input\n",
    "num_sorteado = np.array(jogos).flatten()"
   ]
  },
  {
   "cell_type": "code",
   "execution_count": null,
   "metadata": {},
   "outputs": [],
   "source": [
    "# Pré-processamento e criação do dataset de treino\n",
    "seq_in = []\n",
    "out = []\n",
    "\n",
    "for i in range(len(num_sorteado)-8):\n",
    "    seq_in.append(list(num_sorteado[i:i+6]))\n",
    "    out.append(num_sorteado[i+7])\n",
    "    \n",
    "X = np.array(seq_in)\n",
    "y = np.array(out)"
   ]
  },
  {
   "cell_type": "code",
   "execution_count": null,
   "metadata": {},
   "outputs": [],
   "source": [
    "# Dados de entrada organizado a cada 6 dezenas sorteadas\n",
    "X = X.reshape(X.shape[0], 6, 1)\n",
    "\n",
    "# Transformando números sorteados em categorias One Hot Encoding\n",
    "hot = OneHotEncoder(sparse=False, categories='auto')\n",
    "y_one = hot.fit_transform(y.reshape(len(y), 1))"
   ]
  },
  {
   "cell_type": "code",
   "execution_count": null,
   "metadata": {},
   "outputs": [],
   "source": [
    "# Criação e treinamento do modelo\n",
    "model = Sequential()\n",
    "\n",
    "model.add(LSTM(36, input_shape=(X.shape[1], X.shape[2])))\n",
    "model.add(Dense(120, activation='elu'))\n",
    "model.add(Dense(y_one.shape[1], activation='softmax'))\n",
    "\n",
    "model.compile(loss='categorical_crossentropy', optimizer='Adam', metrics=['accuracy'])\n",
    "\n",
    "model.fit(X, y_one, epochs=10, verbose=1)"
   ]
  },
  {
   "cell_type": "code",
   "execution_count": null,
   "metadata": {},
   "outputs": [],
   "source": [
    "# Resumo do modelo\n",
    "model.summary()"
   ]
  },
  {
   "cell_type": "code",
   "execution_count": null,
   "metadata": {},
   "outputs": [],
   "source": [
    "# Análise preditiva\n",
    "numeros_previstos = []\n",
    "\n",
    "for i in range(len(jogos)):\n",
    "    X_teste = np.array(jogos[i])\n",
    "    X_teste = X_teste.reshape(1, X_teste.shape[0], 1)\n",
    "    predicted = model.predict(X_teste)\n",
    "    numeros_previstos.append(np.argmax(predicted))\n",
    "\n",
    "# Tentamos organizar os números para prever as dezenas mais prováveis de serem sorteadas.\n",
    "numeros_previstos = pd.Series(numeros_previstos).unique()\n",
    "numeros_previstos = list(numeros_previstos)\n",
    "numeros_previstos.sort()"
   ]
  },
  {
   "cell_type": "code",
   "execution_count": null,
   "metadata": {},
   "outputs": [],
   "source": [
    "# Numeros previstos como mais provaveis:\n",
    "print(numeros_previstos)\n",
    "\n",
    "q_mais = 0\n",
    "q_menos = 0\n",
    "\n",
    "for n in numeros_previstos:\n",
    "    if n in mais:\n",
    "        q_mais += 1\n",
    "    elif n in menos:\n",
    "        q_menos += 1\n",
    "        \n",
    "print(f'\\nTemos {q_mais} dos números previstos entre os mais frequentes.')\n",
    "print(f'\\nTemos {q_menos} dos números previstos entre os menos frequentes.')"
   ]
  },
  {
   "cell_type": "code",
   "execution_count": null,
   "metadata": {},
   "outputs": [],
   "source": [
    "prev = []\n",
    "\n",
    "for jogo in jogos:\n",
    "    c = 0\n",
    "    for n in jogo:\n",
    "        if n in numeros_previstos:\n",
    "            c += 1\n",
    "    if c == 6:\n",
    "        print(jogo)\n",
    "        break\n",
    "    prev.append(c)\n",
    "\n",
    "print(f'''Utilizando os {len(numeros_previstos)} números mais prováveis previstos pelo modelo,\n",
    "tivemos uma média de acerto de {sum(prev)/len(prev):.2f} números considerando todos os 2178 sorteios.''')"
   ]
  },
  {
   "cell_type": "markdown",
   "metadata": {},
   "source": [
    "## Conclusão:\n",
    "\n",
    "* Como o fenomeno dos sorteios é completamente aleatório, o modelo não foi capaz de prever os números de forma acertiva. \n",
    "\n",
    "* Para avaliar o aprendizado do modelo, a expectativa era que ele fosse enviezado para buscar os números mais frequentes, o que não se mostrou na análise, sendo que 4 dos 12 estão presentes entre os números menos frequentes e apenas 1 entre os mais. \n"
   ]
  },
  {
   "cell_type": "markdown",
   "metadata": {},
   "source": [
    "# FIM!"
   ]
  }
 ],
 "metadata": {
  "kernelspec": {
   "display_name": "Python 3",
   "language": "python",
   "name": "python3"
  },
  "language_info": {
   "codemirror_mode": {
    "name": "ipython",
    "version": 3
   },
   "file_extension": ".py",
   "mimetype": "text/x-python",
   "name": "python",
   "nbconvert_exporter": "python",
   "pygments_lexer": "ipython3",
   "version": "3.7.7"
  }
 },
 "nbformat": 4,
 "nbformat_minor": 2
}
